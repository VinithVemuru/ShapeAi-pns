{
  "nbformat": 4,
  "nbformat_minor": 0,
  "metadata": {
    "colab": {
      "name": "Untitled0.ipynb",
      "provenance": [],
      "authorship_tag": "ABX9TyMQFPo37P7KaNoPtpqRIsgq",
      "include_colab_link": true
    },
    "kernelspec": {
      "name": "python3",
      "display_name": "Python 3"
    },
    "language_info": {
      "name": "python"
    }
  },
  "cells": [
    {
      "cell_type": "markdown",
      "metadata": {
        "id": "view-in-github",
        "colab_type": "text"
      },
      "source": [
        "<a href=\"https://colab.research.google.com/github/VinithVemuru/ShapeAi-pns/blob/main/md5.ipynb\" target=\"_parent\"><img src=\"https://colab.research.google.com/assets/colab-badge.svg\" alt=\"Open In Colab\"/></a>"
      ]
    },
    {
      "cell_type": "code",
      "metadata": {
        "id": "vWZ_5olOoy9-"
      },
      "source": [
        "(1)To represent HASH in hexa decimal form"
      ],
      "execution_count": null,
      "outputs": []
    },
    {
      "cell_type": "code",
      "metadata": {
        "colab": {
          "base_uri": "https://localhost:8080/"
        },
        "id": "rcM-1eaunSNn",
        "outputId": "d40e1893-284a-4dfc-e968-7c2ebb803dee"
      },
      "source": [
        "\n",
        "import hashlib \n",
        "mystring = input('Enter string to hash: ') \n",
        "hash_obj = hashlib.md5(mystring.encode()) \n",
        "print(hash_obj.hexdigest())"
      ],
      "execution_count": 1,
      "outputs": [
        {
          "output_type": "stream",
          "text": [
            "Enter string to hash: vinith\n",
            "b954deb1c4ec81ce8cd9141f18d2461a\n"
          ],
          "name": "stdout"
        }
      ]
    },
    {
      "cell_type": "markdown",
      "metadata": {
        "id": "pMcQDck9pXRX"
      },
      "source": [
        "To represent HASH in bytes form"
      ]
    },
    {
      "cell_type": "code",
      "metadata": {
        "colab": {
          "base_uri": "https://localhost:8080/"
        },
        "id": "4RJupeP7rUtP",
        "outputId": "330e05f4-5c2d-4a1c-a977-903e26d3d00e"
      },
      "source": [
        "import hashlib\n",
        "hash_obj = hashlib.md5(b'Hello, Python!')\n",
        "  #To generate, sequence of bytes\n",
        "print(hash_obj.digest())"
      ],
      "execution_count": 4,
      "outputs": [
        {
          "output_type": "stream",
          "text": [
            "b'\\xa0\\xafx\\x10\\xeb_\\xcb\\x84\\xc70\\xf8Q6\\x1d\\xe0j'\n"
          ],
          "name": "stdout"
        }
      ]
    },
    {
      "cell_type": "markdown",
      "metadata": {
        "id": "A3_2K639qQNv"
      },
      "source": [
        "Only md5 form"
      ]
    },
    {
      "cell_type": "code",
      "metadata": {
        "colab": {
          "base_uri": "https://localhost:8080/"
        },
        "id": "JM0fiTuMrn7w",
        "outputId": "63042ae2-8c33-4cac-a7fc-ef62a3848dee"
      },
      "source": [
        "print(hash_obj)"
      ],
      "execution_count": 5,
      "outputs": [
        {
          "output_type": "stream",
          "text": [
            "<md5 HASH object @ 0x7f105e2fda80>\n"
          ],
          "name": "stdout"
        }
      ]
    },
    {
      "cell_type": "markdown",
      "metadata": {
        "id": "j2OLYNtMq6ik"
      },
      "source": [
        "**(2)ALGORITHM 1: hash with SHA-2** "
      ]
    },
    {
      "cell_type": "code",
      "metadata": {
        "colab": {
          "base_uri": "https://localhost:8080/"
        },
        "id": "cAI7aQ63sKGF",
        "outputId": "1ce3bdb4-1b00-4c19-f150-470e9266c2ff"
      },
      "source": [
        "import hashlib\n",
        "\n",
        "# encode it to bytes using UTF-8 encoding\n",
        "message = \"Some text to hash\".encode()\n",
        "print(\"SHA-256:\", hashlib.sha256(message).hexdigest())\n",
        "\n",
        "print(\"SHA-512:\", hashlib.sha512(message).hexdigest())"
      ],
      "execution_count": 6,
      "outputs": [
        {
          "output_type": "stream",
          "text": [
            "SHA-256: 7a86e0e93e6aa6cf49f19368ca7242e24640a988ac8e5508dfcede39fa53faa2\n",
            "SHA-512: 96fa772f72678c85bbd5d23b66d51d50f8f9824a0aba0ded624ab61fe8b602bf4e3611075fe13595d3e74c63c59f7d79241acc97888e9a7a5c791159c85c3ccd\n"
          ],
          "name": "stdout"
        }
      ]
    },
    {
      "cell_type": "markdown",
      "metadata": {
        "id": "m8NaltYZsi11"
      },
      "source": [
        "**ALGORITHM 2: hash with SHA-3**"
      ]
    },
    {
      "cell_type": "code",
      "metadata": {
        "colab": {
          "base_uri": "https://localhost:8080/"
        },
        "id": "SkOnEbapsmGq",
        "outputId": "9f9349ad-e2dc-4582-99c8-20f10f58ea2d"
      },
      "source": [
        "print(\"SHA-3-256:\", hashlib.sha3_256(message).hexdigest())\n",
        "\n",
        "print(\"SHA-3-512:\", hashlib.sha3_512(message).hexdigest())"
      ],
      "execution_count": 7,
      "outputs": [
        {
          "output_type": "stream",
          "text": [
            "SHA-3-256: d7007c1cd52f8168f22fa25ef011a5b3644bcb437efa46de34761d3340187609\n",
            "SHA-3-512: de6b4c8f7d4fd608987c123122bcc63081372d09b4bc14955bfc828335dec1246b5c6633c5b1c87d2ad2b777d713d7777819263e7ad675a3743bf2a35bc699d0\n"
          ],
          "name": "stdout"
        }
      ]
    },
    {
      "cell_type": "markdown",
      "metadata": {
        "id": "wGBb6Ce7sxWQ"
      },
      "source": [
        "**ALGORITHM 3: hash with BLAKE2**"
      ]
    },
    {
      "cell_type": "code",
      "metadata": {
        "colab": {
          "base_uri": "https://localhost:8080/"
        },
        "id": "95J8_uw7s0Vm",
        "outputId": "e4f5abdd-3928-45ee-8a52-3b84cf5f76e9"
      },
      "source": [
        "# 256-bit BLAKE2 (or BLAKE2s)\n",
        "print(\"BLAKE2c:\", hashlib.blake2s(message).hexdigest())\n",
        "# 512-bit BLAKE2 (or BLAKE2b)\n",
        "print(\"BLAKE2b:\", hashlib.blake2b(message).hexdigest())"
      ],
      "execution_count": 8,
      "outputs": [
        {
          "output_type": "stream",
          "text": [
            "BLAKE2c: 6889074426b5454d751547cd33ca4c64cd693f86ce69be5c951223f3af845786\n",
            "BLAKE2b: 13e2ca8f6a282f27b2022dde683490b1085b3e16a98ee77b44b25bc84a0366afe8d70a4aa47dd10e064f1f772573513d64d56e5ef646fb935c040b32f67e5ab2\n"
          ],
          "name": "stdout"
        }
      ]
    },
    {
      "cell_type": "markdown",
      "metadata": {
        "id": "lXYspYYAs_li"
      },
      "source": [
        "(3)**salting**"
      ]
    },
    {
      "cell_type": "code",
      "metadata": {
        "id": "KALgNU9MtBeb"
      },
      "source": [
        "import uuid\n",
        "import hashlib\n",
        "\n",
        "def hashText(text):\n",
        "    \"\"\"\n",
        "        Basic hashing function for a text using random unique salt.  \n",
        "    \"\"\"\n",
        "    salt = uuid.uuid4().hex\n",
        "    return hashlib.sha256(salt.encode() + text.encode()).hexdigest() + ':' + salt\n",
        "    \n",
        "def matchHashedText(hashedText, providedText):\n",
        "    \"\"\"\n",
        "        Check for the text in the hashed text\n",
        "    \"\"\"\n",
        "    _hashedText, salt = hashedText.split(':')\n",
        "    return _hashedText == hashlib.sha256(salt.encode() + providedText.encode()).hexdigest()"
      ],
      "execution_count": 9,
      "outputs": []
    },
    {
      "cell_type": "code",
      "metadata": {
        "colab": {
          "base_uri": "https://localhost:8080/"
        },
        "id": "76CanQS-tP9s",
        "outputId": "571ab492-c874-48a8-d495-4ef3eeb40c89"
      },
      "source": [
        "hashText(\"text\")\n",
        "matchHashedText(hashText(\"text\"), \"text\")"
      ],
      "execution_count": 10,
      "outputs": [
        {
          "output_type": "execute_result",
          "data": {
            "text/plain": [
              "True"
            ]
          },
          "metadata": {
            "tags": []
          },
          "execution_count": 10
        }
      ]
    },
    {
      "cell_type": "markdown",
      "metadata": {
        "id": "8fn7s07otZxo"
      },
      "source": [
        "(3)**iterations**"
      ]
    },
    {
      "cell_type": "code",
      "metadata": {
        "colab": {
          "base_uri": "https://localhost:8080/",
          "height": 35
        },
        "id": "jvN2dHdttbbm",
        "outputId": "a8c03c6f-fce8-493f-ac99-5f8c4bbf83b0"
      },
      "source": [
        "from hashlib import blake2b, blake2s\n",
        "blake2b(digest_size=10).hexdigest()"
      ],
      "execution_count": 11,
      "outputs": [
        {
          "output_type": "execute_result",
          "data": {
            "application/vnd.google.colaboratory.intrinsic+json": {
              "type": "string"
            },
            "text/plain": [
              "'6fa1d8fcfd719046d762'"
            ]
          },
          "metadata": {
            "tags": []
          },
          "execution_count": 11
        }
      ]
    },
    {
      "cell_type": "code",
      "metadata": {
        "colab": {
          "base_uri": "https://localhost:8080/",
          "height": 35
        },
        "id": "vSlYXEmntjt9",
        "outputId": "1b710e9e-a517-4a73-b23f-239a8ba1065a"
      },
      "source": [
        "blake2b(digest_size=11).hexdigest()"
      ],
      "execution_count": 12,
      "outputs": [
        {
          "output_type": "execute_result",
          "data": {
            "application/vnd.google.colaboratory.intrinsic+json": {
              "type": "string"
            },
            "text/plain": [
              "'eb6ec15daf9546254f0809'"
            ]
          },
          "metadata": {
            "tags": []
          },
          "execution_count": 12
        }
      ]
    },
    {
      "cell_type": "code",
      "metadata": {
        "colab": {
          "base_uri": "https://localhost:8080/",
          "height": 35
        },
        "id": "CDjnRMA4tpJZ",
        "outputId": "a72333ed-3d8b-4b36-fd5f-e26f7e6ffeac"
      },
      "source": [
        "blake2s(digest_size=10).hexdigest()"
      ],
      "execution_count": 13,
      "outputs": [
        {
          "output_type": "execute_result",
          "data": {
            "application/vnd.google.colaboratory.intrinsic+json": {
              "type": "string"
            },
            "text/plain": [
              "'1bf21a98c78a1c376ae9'"
            ]
          },
          "metadata": {
            "tags": []
          },
          "execution_count": 13
        }
      ]
    },
    {
      "cell_type": "code",
      "metadata": {
        "colab": {
          "base_uri": "https://localhost:8080/",
          "height": 35
        },
        "id": "-l2bZmW2tyjk",
        "outputId": "b117bc5c-ba14-446d-e56e-61f021d8db9a"
      },
      "source": [
        "blake2s(digest_size=11).hexdigest()"
      ],
      "execution_count": 14,
      "outputs": [
        {
          "output_type": "execute_result",
          "data": {
            "application/vnd.google.colaboratory.intrinsic+json": {
              "type": "string"
            },
            "text/plain": [
              "'567004bf96e4a25773ebf4'"
            ]
          },
          "metadata": {
            "tags": []
          },
          "execution_count": 14
        }
      ]
    }
  ]
}